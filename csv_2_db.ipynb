{
 "cells": [
  {
   "cell_type": "code",
   "id": "initial_id",
   "metadata": {
    "collapsed": true,
    "ExecuteTime": {
     "end_time": "2024-12-17T09:17:23.920573Z",
     "start_time": "2024-12-17T09:17:23.914539Z"
    }
   },
   "source": [
    "import sqlite3\n",
    "import pandas as pd"
   ],
   "outputs": [],
   "execution_count": 7
  },
  {
   "metadata": {},
   "cell_type": "markdown",
   "source": "data: https://www.kaggle.com/datasets/marthadimgba/online-shop-2024",
   "id": "e4dfeea432558496"
  },
  {
   "metadata": {
    "ExecuteTime": {
     "end_time": "2024-12-17T09:19:46.457015Z",
     "start_time": "2024-12-17T09:19:46.452870Z"
    }
   },
   "cell_type": "code",
   "source": [
    "conn = sqlite3.connect(\"onlineshop_24.db\")\n",
    "cursor = conn.cursor()"
   ],
   "id": "d73312b1aec929ad",
   "outputs": [],
   "execution_count": 12
  },
  {
   "metadata": {
    "ExecuteTime": {
     "end_time": "2024-12-17T09:19:46.872919Z",
     "start_time": "2024-12-17T09:19:46.866937Z"
    }
   },
   "cell_type": "code",
   "source": [
    "# Import data from csv files into corresponding tables\n",
    "def import_csv_to_table(csv_file, table_name):\n",
    "    try:\n",
    "        df = pd.read_csv(csv_file)\n",
    "        df.to_sql(table_name, con=conn, if_exists='append', index=False)\n",
    "        print(f\"Data from {csv_file} into {table_name} successfully!\")\n",
    "    except Exception as e:\n",
    "        print(f\"Error importing data from {csv_file} into {table_name}; {e}\")"
   ],
   "id": "3ae51d0b4e021bed",
   "outputs": [],
   "execution_count": 13
  },
  {
   "metadata": {
    "ExecuteTime": {
     "end_time": "2024-12-17T09:19:47.549800Z",
     "start_time": "2024-12-17T09:19:47.506997Z"
    }
   },
   "cell_type": "code",
   "source": [
    "# Import data from each table\n",
    "# import_csv_to_table('data/customers.csv', 'customers')\n",
    "# import_csv_to_table('data/products.csv', 'products')\n",
    "# import_csv_to_table('data/suppliers.csv', 'suppliers')\n",
    "# import_csv_to_table('data/orders.csv', 'orders')\n",
    "# import_csv_to_table('data/order_items.csv', 'order_items')\n",
    "# import_csv_to_table('data/reviews.csv', 'reviews')\n",
    "# import_csv_to_table('data/payment.csv', 'payments')\n",
    "# import_csv_to_table('data/shipments.csv', 'shipments')\n",
    "\n",
    "# conn.close()"
   ],
   "id": "d298f9d8590c0759",
   "outputs": [
    {
     "name": "stdout",
     "output_type": "stream",
     "text": [
      "Data from data/payment.csv into payments successfully!\n"
     ]
    }
   ],
   "execution_count": 14
  },
  {
   "metadata": {},
   "cell_type": "code",
   "outputs": [],
   "execution_count": null,
   "source": "",
   "id": "65e48af5461f721"
  }
 ],
 "metadata": {
  "kernelspec": {
   "display_name": "Python 3",
   "language": "python",
   "name": "python3"
  },
  "language_info": {
   "codemirror_mode": {
    "name": "ipython",
    "version": 2
   },
   "file_extension": ".py",
   "mimetype": "text/x-python",
   "name": "python",
   "nbconvert_exporter": "python",
   "pygments_lexer": "ipython2",
   "version": "2.7.6"
  }
 },
 "nbformat": 4,
 "nbformat_minor": 5
}
